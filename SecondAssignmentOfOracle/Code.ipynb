{
 "cells": [
  {
   "attachments": {},
   "cell_type": "markdown",
   "metadata": {},
   "source": [
    "insert trigger code "
   ]
  },
  {
   "attachments": {},
   "cell_type": "markdown",
   "metadata": {},
   "source": [
    "trigger code "
   ]
  },
  {
   "cell_type": "code",
   "execution_count": null,
   "metadata": {},
   "outputs": [],
   "source": [
    "CREATE OR REPLACE TRIGGER insertTrigerOntableUserLog\n",
    "AFTER INSERT ON myUser\n",
    "FOR EACH ROW\n",
    "    BEGIN\n",
    "        INSERT INTO myUserLog VALUES(:NEW.name,:NEW.email,:NEW.phone);\n",
    "    END;"
   ]
  },
  {
   "attachments": {},
   "cell_type": "markdown",
   "metadata": {},
   "source": [
    "all code "
   ]
  },
  {
   "cell_type": "code",
   "execution_count": null,
   "metadata": {},
   "outputs": [],
   "source": [
    "CREATE TABLE myUser\n",
    "( \n",
    "    name VARCHAR(33) NOT NULL,\n",
    "    email VARCHAR(33) NOT NULL,\n",
    "    phone  VARCHAR(33) NOT NULL                \n",
    ");\n",
    "\n",
    "CREATE TABLE myUserLog\n",
    "( \n",
    "    name VARCHAR(33) NOT NULL,\n",
    "    email VARCHAR(33) NOT NULL,\n",
    "    phone  VARCHAR(33) NOT NULL                \n",
    ");\n",
    "\n",
    "CREATE OR REPLACE TRIGGER insertTrigerOntableUserLog\n",
    "AFTER INSERT ON myUser\n",
    "FOR EACH ROW\n",
    "    BEGIN\n",
    "        INSERT INTO myUserLog VALUES(:NEW.name,:NEW.email,:NEW.phone);\n",
    "    END;\n",
    "    \n",
    "    \n",
    "    INSERT INTO myUser VALUES('Aziz','aziz@gmail.com','09764387563');\n",
    "    INSERT INTO myUser VALUES('Faiz','faiz@gmail.com','07764387563');\n",
    "    INSERT INTO myUser VALUES('Mostafa','mostata@gmail.com','07064387563');\n",
    "    INSERT INTO myUser VALUES('Rashid','rashid@gmail.com','09764387563');\n",
    "\n",
    "    \n",
    "    \n",
    "select * from myUser;\n",
    "select * from myuserlog;\n"
   ]
  },
  {
   "attachments": {},
   "cell_type": "markdown",
   "metadata": {},
   "source": [
    "delete on suer trigger "
   ]
  },
  {
   "attachments": {},
   "cell_type": "markdown",
   "metadata": {},
   "source": [
    "trigger code "
   ]
  },
  {
   "cell_type": "code",
   "execution_count": null,
   "metadata": {},
   "outputs": [],
   "source": [
    "CREATE OR REPLACE TRIGGER onDeletTiregerLog\n",
    "AFTER DELETE ON myUser\n",
    "FOR EACH ROW\n",
    "    BEGIN\n",
    "        INSERT INTO myUserLog(email,logDate) VALUES(:OLD.email,SYSDATE);\n",
    "    END;\n"
   ]
  },
  {
   "attachments": {},
   "cell_type": "markdown",
   "metadata": {},
   "source": [
    "all code "
   ]
  },
  {
   "cell_type": "code",
   "execution_count": null,
   "metadata": {},
   "outputs": [],
   "source": [
    "CREATE TABLE myUser\n",
    "( \n",
    "    name VARCHAR(33) NOT NULL,\n",
    "    email VARCHAR(33) NOT NULL,\n",
    "    phone  VARCHAR(33) NOT NULL                \n",
    ");\n",
    "\n",
    "CREATE TABLE myUserLog\n",
    "( \n",
    "    name VARCHAR(33) NULL,\n",
    "    email VARCHAR(33) NULL,\n",
    "    phone  VARCHAR(33) NULL,  \n",
    "    logDate   DATE NULL\n",
    ");\n",
    "\n",
    "\n",
    "insert into myUser values('Aziz','aziz@gmail.com','0785748475');\n",
    "insert into myUser values('Faiz','faiz@gmail.com','078577345');\n",
    "insert into myUser values('Fawad','fawad@gmail.com','0785745375');\n",
    "insert into myUser values('Mansoor','mansoor@gmail.com','07887683265');\n",
    "\n",
    "\n",
    "CREATE OR REPLACE TRIGGER onDeletTiregerLog\n",
    "AFTER DELETE ON myUser\n",
    "FOR EACH ROW\n",
    "    BEGIN\n",
    "        INSERT INTO myUserLog(email,logDate) VALUES(:OLD.email,SYSDATE);\n",
    "    END;\n",
    "\n",
    "\n",
    "DELETE FROM myUser WHERE NAME = 'Aziz';\n",
    "DELETE FROM myUser WHERE NAME = 'Faiz';\n",
    "DELETE FROM myUser WHERE NAME = 'Mansoor';\n",
    "\n",
    "\n",
    "select * from myUserLog;\n",
    "\n",
    "\n",
    "\n",
    "\n",
    "\n",
    "\n",
    "\n",
    "\n",
    "\n",
    "\n",
    "\n",
    "\n"
   ]
  },
  {
   "attachments": {},
   "cell_type": "markdown",
   "metadata": {},
   "source": [
    "update on user tigger"
   ]
  },
  {
   "attachments": {},
   "cell_type": "markdown",
   "metadata": {},
   "source": [
    "update tigger code "
   ]
  },
  {
   "cell_type": "code",
   "execution_count": null,
   "metadata": {},
   "outputs": [],
   "source": [
    "CREATE OR REPLACE TRIGGER onUpdateTiregerLog\n",
    "AFTER UPDATE ON myUser\n",
    "FOR EACH ROW\n",
    "    BEGIN\n",
    "        INSERT INTO myUserLog(name,email,phone,logDate) VALUES(:OLD.name,:OLD.email,:OLD.phone,SYSDATE);\n",
    "        INSERT INTO myUserLog(name,email,phone,logDate) VALUES(:NEW.name,:NEW.email,:NEW.phone,SYSDATE);\n",
    "    END;"
   ]
  },
  {
   "attachments": {},
   "cell_type": "markdown",
   "metadata": {},
   "source": [
    "all code "
   ]
  },
  {
   "cell_type": "code",
   "execution_count": null,
   "metadata": {},
   "outputs": [],
   "source": [
    "CREATE TABLE myUser\n",
    "( \n",
    "    name VARCHAR(33) NOT NULL,\n",
    "    email VARCHAR(33) NOT NULL,\n",
    "    phone  VARCHAR(33) NOT NULL                \n",
    ");\n",
    "\n",
    "CREATE TABLE myUserLog\n",
    "( \n",
    "    name VARCHAR(33) NULL,\n",
    "    email VARCHAR(33) NULL,\n",
    "    phone  VARCHAR(33) NULL,  \n",
    "    logDate   DATE NULL\n",
    ");\n",
    "\n",
    "\n",
    "insert into myUser values('Aziz','aziz@gmail.com','0785748475');\n",
    "insert into myUser values('Faiz','faiz@gmail.com','078577345');\n",
    "insert into myUser values('Fawad','fawad@gmail.com','0785745375');\n",
    "insert into myUser values('Mansoor','mansoor@gmail.com','07887683265');\n",
    "\n",
    "\n",
    "CREATE OR REPLACE TRIGGER onDeletTiregerLog\n",
    "AFTER DELETE ON myUser\n",
    "FOR EACH ROW\n",
    "    BEGIN\n",
    "        INSERT INTO myUserLog(email,logDate) VALUES(:OLD.email,SYSDATE);\n",
    "    END;\n",
    "\n",
    "\n",
    "DELETE FROM myUser WHERE NAME = 'Aziz';\n",
    "DELETE FROM myUser WHERE NAME = 'Faiz';\n",
    "DELETE FROM myUser WHERE NAME = 'Mansoor';\n",
    "\n",
    "CREATE OR REPLACE TRIGGER onUpdateTiregerLog\n",
    "AFTER UPDATE ON myUser\n",
    "FOR EACH ROW\n",
    "    BEGIN\n",
    "        INSERT INTO myUserLog(name,email,phone,logDate) VALUES(:OLD.name,:OLD.email,:OLD.phone,SYSDATE);\n",
    "        INSERT INTO myUserLog(name,email,phone,logDate) VALUES(:NEW.name,:NEW.email,:NEW.phone,SYSDATE);\n",
    "    END;\n",
    "\n",
    "select * from myUser;\n",
    "\n",
    "UPDATE myUser set name = 'Khan',email = 'khan@gmail.com',phone = '097375775' WHERE name = 'Fawad';\n",
    "\n",
    "select * from myUserLog;\n",
    "\n"
   ]
  }
 ],
 "metadata": {
  "language_info": {
   "name": "python"
  },
  "orig_nbformat": 4
 },
 "nbformat": 4,
 "nbformat_minor": 2
}
